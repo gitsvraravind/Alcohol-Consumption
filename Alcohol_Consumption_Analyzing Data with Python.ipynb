{
 "cells": [
  {
   "cell_type": "markdown",
   "metadata": {},
   "source": [
    "<a><img src=\"https://ibm.box.com/shared/static/ugcqz6ohbvff804xp84y4kqnvvk3bq1g.png\" width=\"200\" align=\"center\"></a>"
   ]
  },
  {
   "cell_type": "markdown",
   "metadata": {},
   "source": [
    "<h1>Analyzing Where Do People Drink?  </h1>\n",
    "<h2>Description</h2>"
   ]
  },
  {
   "cell_type": "markdown",
   "metadata": {},
   "source": [
    "This Dataset is from the story <a href=https://fivethirtyeight.com/features/dear-mona-followup-where-do-people-drink-the-most-beer-wine-and-spirits/>  Dear Mona Followup: Where Do People Drink The Most Beer, Wine And Spirits? </a>  The dataset contains Average serving sizes per person such as average wine, spirit, beer servings. As well as several other metrics. You will be asked to analyze the data and predict the total liters served given the servings. See how to share your lab at the end."
   ]
  },
  {
   "cell_type": "markdown",
   "metadata": {},
   "source": [
    "You will need the following libraries:"
   ]
  },
  {
   "cell_type": "code",
   "execution_count": 1,
   "metadata": {},
   "outputs": [],
   "source": [
    "import pandas as pd\n",
    "import numpy as np\n",
    "import matplotlib.pyplot as plt\n",
    "import matplotlib as mpl"
   ]
  },
  {
   "cell_type": "markdown",
   "metadata": {},
   "source": [
    "<b>1.0 Importing the Data</b>"
   ]
  },
  {
   "cell_type": "markdown",
   "metadata": {},
   "source": [
    "Load the csv:"
   ]
  },
  {
   "cell_type": "code",
   "execution_count": 2,
   "metadata": {},
   "outputs": [],
   "source": [
    "df= pd.read_csv('https://s3-api.us-geo.objectstorage.softlayer.net/cf-courses-data/CognitiveClass/DA0101EN/edx/project/drinks.csv')"
   ]
  },
  {
   "cell_type": "markdown",
   "metadata": {},
   "source": [
    "We use the method  <code>head()</code>  to display the first 5 columns of the dataframe:"
   ]
  },
  {
   "cell_type": "code",
   "execution_count": 3,
   "metadata": {},
   "outputs": [
    {
     "data": {
      "text/html": [
       "<div>\n",
       "<style scoped>\n",
       "    .dataframe tbody tr th:only-of-type {\n",
       "        vertical-align: middle;\n",
       "    }\n",
       "\n",
       "    .dataframe tbody tr th {\n",
       "        vertical-align: top;\n",
       "    }\n",
       "\n",
       "    .dataframe thead th {\n",
       "        text-align: right;\n",
       "    }\n",
       "</style>\n",
       "<table border=\"1\" class=\"dataframe\">\n",
       "  <thead>\n",
       "    <tr style=\"text-align: right;\">\n",
       "      <th></th>\n",
       "      <th>country</th>\n",
       "      <th>beer_servings</th>\n",
       "      <th>spirit_servings</th>\n",
       "      <th>wine_servings</th>\n",
       "      <th>total_litres_of_pure_alcohol</th>\n",
       "      <th>continent</th>\n",
       "    </tr>\n",
       "  </thead>\n",
       "  <tbody>\n",
       "    <tr>\n",
       "      <th>0</th>\n",
       "      <td>Afghanistan</td>\n",
       "      <td>0</td>\n",
       "      <td>0</td>\n",
       "      <td>0</td>\n",
       "      <td>0.0</td>\n",
       "      <td>Asia</td>\n",
       "    </tr>\n",
       "    <tr>\n",
       "      <th>1</th>\n",
       "      <td>Albania</td>\n",
       "      <td>89</td>\n",
       "      <td>132</td>\n",
       "      <td>54</td>\n",
       "      <td>4.9</td>\n",
       "      <td>Europe</td>\n",
       "    </tr>\n",
       "    <tr>\n",
       "      <th>2</th>\n",
       "      <td>Algeria</td>\n",
       "      <td>25</td>\n",
       "      <td>0</td>\n",
       "      <td>14</td>\n",
       "      <td>0.7</td>\n",
       "      <td>Africa</td>\n",
       "    </tr>\n",
       "    <tr>\n",
       "      <th>3</th>\n",
       "      <td>Andorra</td>\n",
       "      <td>245</td>\n",
       "      <td>138</td>\n",
       "      <td>312</td>\n",
       "      <td>12.4</td>\n",
       "      <td>Europe</td>\n",
       "    </tr>\n",
       "    <tr>\n",
       "      <th>4</th>\n",
       "      <td>Angola</td>\n",
       "      <td>217</td>\n",
       "      <td>57</td>\n",
       "      <td>45</td>\n",
       "      <td>5.9</td>\n",
       "      <td>Africa</td>\n",
       "    </tr>\n",
       "  </tbody>\n",
       "</table>\n",
       "</div>"
      ],
      "text/plain": [
       "       country  beer_servings  spirit_servings  wine_servings  \\\n",
       "0  Afghanistan              0                0              0   \n",
       "1      Albania             89              132             54   \n",
       "2      Algeria             25                0             14   \n",
       "3      Andorra            245              138            312   \n",
       "4       Angola            217               57             45   \n",
       "\n",
       "   total_litres_of_pure_alcohol continent  \n",
       "0                           0.0      Asia  \n",
       "1                           4.9    Europe  \n",
       "2                           0.7    Africa  \n",
       "3                          12.4    Europe  \n",
       "4                           5.9    Africa  "
      ]
     },
     "execution_count": 3,
     "metadata": {},
     "output_type": "execute_result"
    }
   ],
   "source": [
    "df.head()"
   ]
  },
  {
   "cell_type": "markdown",
   "metadata": {},
   "source": [
    "<b>Question 1</b>:  Display the data types of each column using the attribute dtype."
   ]
  },
  {
   "cell_type": "code",
   "execution_count": 4,
   "metadata": {
    "scrolled": true
   },
   "outputs": [
    {
     "data": {
      "text/plain": [
       "country                          object\n",
       "beer_servings                     int64\n",
       "spirit_servings                   int64\n",
       "wine_servings                     int64\n",
       "total_litres_of_pure_alcohol    float64\n",
       "continent                        object\n",
       "dtype: object"
      ]
     },
     "execution_count": 4,
     "metadata": {},
     "output_type": "execute_result"
    }
   ],
   "source": [
    "# dtypes displays the data types present in the data  \n",
    "# the below output refers \n",
    "# 2 objects\n",
    "# 2 int of type 64 \n",
    "# 1 float of type 64 \n",
    "\n",
    "df.dtypes"
   ]
  },
  {
   "cell_type": "markdown",
   "metadata": {},
   "source": [
    "<b>Question 2</b> use the method <code>groupby</code> to get the number of wine servings per continent:"
   ]
  },
  {
   "cell_type": "code",
   "execution_count": 5,
   "metadata": {},
   "outputs": [
    {
     "data": {
      "text/html": [
       "<div>\n",
       "<style scoped>\n",
       "    .dataframe tbody tr th:only-of-type {\n",
       "        vertical-align: middle;\n",
       "    }\n",
       "\n",
       "    .dataframe tbody tr th {\n",
       "        vertical-align: top;\n",
       "    }\n",
       "\n",
       "    .dataframe thead th {\n",
       "        text-align: right;\n",
       "    }\n",
       "</style>\n",
       "<table border=\"1\" class=\"dataframe\">\n",
       "  <thead>\n",
       "    <tr style=\"text-align: right;\">\n",
       "      <th></th>\n",
       "      <th>wine_servings</th>\n",
       "    </tr>\n",
       "    <tr>\n",
       "      <th>continent</th>\n",
       "      <th></th>\n",
       "    </tr>\n",
       "  </thead>\n",
       "  <tbody>\n",
       "    <tr>\n",
       "      <th>Africa</th>\n",
       "      <td>862</td>\n",
       "    </tr>\n",
       "    <tr>\n",
       "      <th>Asia</th>\n",
       "      <td>399</td>\n",
       "    </tr>\n",
       "    <tr>\n",
       "      <th>Europe</th>\n",
       "      <td>6400</td>\n",
       "    </tr>\n",
       "    <tr>\n",
       "      <th>North America</th>\n",
       "      <td>564</td>\n",
       "    </tr>\n",
       "    <tr>\n",
       "      <th>Oceania</th>\n",
       "      <td>570</td>\n",
       "    </tr>\n",
       "    <tr>\n",
       "      <th>South America</th>\n",
       "      <td>749</td>\n",
       "    </tr>\n",
       "  </tbody>\n",
       "</table>\n",
       "</div>"
      ],
      "text/plain": [
       "               wine_servings\n",
       "continent                   \n",
       "Africa                   862\n",
       "Asia                     399\n",
       "Europe                  6400\n",
       "North America            564\n",
       "Oceania                  570\n",
       "South America            749"
      ]
     },
     "execution_count": 5,
     "metadata": {},
     "output_type": "execute_result"
    }
   ],
   "source": [
    "# assing the data frame df to a new variable \n",
    "df_group_wine = df  \n",
    "\n",
    "# select only the required columns wine servings and continent  \n",
    "df_group_wine_cnt = df_group_wine[['wine_servings','continent']]\n",
    "\n",
    "# set continent as index  \n",
    "df_group_wine_cnt = df_group_wine_cnt.set_index('continent')\n",
    "\n",
    "# for simplicty sake assigned to a new variable df1\n",
    "df1 = df_group_wine_cnt \n",
    "\n",
    "# using group by and count method provides the wine servings by continent. \n",
    "#df1 = df1.groupby(['continent']).count()\n",
    "\n",
    "df1 = df1.groupby(['continent']).agg({'wine_servings':'sum'})\n",
    "\n",
    "df1\n",
    "\n",
    "# the below table shows that Africa serves wine for 53 countries , Asia serves 44 countries and so on.. \n"
   ]
  },
  {
   "cell_type": "markdown",
   "metadata": {},
   "source": [
    "<b>Question 3:</b> Perform a statistical summary and analysis of beer servings for each continent:"
   ]
  },
  {
   "cell_type": "code",
   "execution_count": 6,
   "metadata": {},
   "outputs": [
    {
     "data": {
      "text/html": [
       "<div>\n",
       "<style scoped>\n",
       "    .dataframe tbody tr th:only-of-type {\n",
       "        vertical-align: middle;\n",
       "    }\n",
       "\n",
       "    .dataframe tbody tr th {\n",
       "        vertical-align: top;\n",
       "    }\n",
       "\n",
       "    .dataframe thead th {\n",
       "        text-align: right;\n",
       "    }\n",
       "</style>\n",
       "<table border=\"1\" class=\"dataframe\">\n",
       "  <thead>\n",
       "    <tr style=\"text-align: right;\">\n",
       "      <th></th>\n",
       "      <th>country</th>\n",
       "      <th>continent</th>\n",
       "    </tr>\n",
       "  </thead>\n",
       "  <tbody>\n",
       "    <tr>\n",
       "      <th>count</th>\n",
       "      <td>193</td>\n",
       "      <td>193</td>\n",
       "    </tr>\n",
       "    <tr>\n",
       "      <th>unique</th>\n",
       "      <td>193</td>\n",
       "      <td>6</td>\n",
       "    </tr>\n",
       "    <tr>\n",
       "      <th>top</th>\n",
       "      <td>Togo</td>\n",
       "      <td>Africa</td>\n",
       "    </tr>\n",
       "    <tr>\n",
       "      <th>freq</th>\n",
       "      <td>1</td>\n",
       "      <td>53</td>\n",
       "    </tr>\n",
       "  </tbody>\n",
       "</table>\n",
       "</div>"
      ],
      "text/plain": [
       "       country continent\n",
       "count      193       193\n",
       "unique     193         6\n",
       "top       Togo    Africa\n",
       "freq         1        53"
      ]
     },
     "execution_count": 6,
     "metadata": {},
     "output_type": "execute_result"
    }
   ],
   "source": [
    "# The default setting of \"describe\" skips variables of type object. \n",
    "# We can apply the method \"describe\" on the variables of type 'object. \n",
    "\n",
    "df.describe()\n",
    "\n",
    "df.describe(include=['object'])"
   ]
  },
  {
   "cell_type": "markdown",
   "metadata": {},
   "source": [
    "<b>Question 4:</b> Use the function boxplot in the seaborn library to produce a plot that can be used to show the number of beer servings on each continent."
   ]
  },
  {
   "cell_type": "code",
   "execution_count": 7,
   "metadata": {},
   "outputs": [
    {
     "data": {
      "text/plain": [
       "<matplotlib.axes._subplots.AxesSubplot at 0x7f5c214010f0>"
      ]
     },
     "execution_count": 7,
     "metadata": {},
     "output_type": "execute_result"
    },
    {
     "data": {
      "image/png": "[encoded data removed]",
      "text/plain": [
       "<Figure size 720x360 with 1 Axes>"
      ]
     },
     "metadata": {
      "needs_background": "light"
     },
     "output_type": "display_data"
    }
   ],
   "source": [
    "import matplotlib.pyplot as plt\n",
    "import seaborn as sns\n",
    "%matplotlib inline \n",
    "\n",
    "df_boxplot = df[['beer_servings','continent']]\n",
    "df_boxplot\n",
    "\n",
    "# spacing the continent for better readbility \n",
    "plt.figure(figsize=(10,5))\n",
    "\n",
    "# box plot on beer servings by continent.  \n",
    "sns.boxplot(x = 'continent' , y = \"beer_servings\", data = df_boxplot , color = 'blue')"
   ]
  },
  {
   "cell_type": "markdown",
   "metadata": {},
   "source": [
    "<b>Question 5</b>: Use the function <code> regplot</code> in the seaborn library to determine if the number of wine servings is\n",
    "negatively or positively correlated with the number of beer servings."
   ]
  },
  {
   "cell_type": "code",
   "execution_count": 8,
   "metadata": {},
   "outputs": [
    {
     "data": {
      "text/plain": [
       "(0, 418.99237623339104)"
      ]
     },
     "execution_count": 8,
     "metadata": {},
     "output_type": "execute_result"
    },
    {
     "data": {
      "image/png": "[encoded data removed]",
      "text/plain": [
       "<Figure size 432x288 with 1 Axes>"
      ]
     },
     "metadata": {
      "needs_background": "light"
     },
     "output_type": "display_data"
    }
   ],
   "source": [
    "# indicates a positive direct correlation between two variables.   Only in some places only beer is served. \n",
    "# simplest model fit the regress y ~ x and plot the resulting regression line and a 95% confidence interval for that regression:\n",
    "\n",
    "\n",
    "import seaborn as sns \n",
    "\n",
    "sns.regplot(y= 'beer_servings', x='wine_servings', data = df, x_jitter=.01, y_jitter=.04 , fit_reg = True , color=\"g\", marker = '+', ci = 95)\n",
    "plt.ylim(0)\n"
   ]
  },
  {
   "cell_type": "markdown",
   "metadata": {},
   "source": [
    "<b> Question 6:</b> Fit a linear regression model to predict the <code>'total_litres_of_pure_alcohol'</code> using the number of <code>'wine_servings'</code> then calculate $R^{2}$:\n"
   ]
  },
  {
   "cell_type": "code",
   "execution_count": 9,
   "metadata": {},
   "outputs": [
    {
     "name": "stdout",
     "output_type": "stream",
     "text": [
      "The R-square is:  0.4456875459787605\n",
      "The intercept is:  [3.15407943]\n",
      "The slope of value B is:  [[0.03160757]]\n",
      "The Yhat is:       wine_servings\n",
      "0         3.154079\n",
      "1         4.860888\n",
      "2         3.596585\n",
      "3        13.015641\n",
      "4         4.576420\n",
      "5         4.576420\n",
      "6        10.139352\n",
      "7         3.501763\n",
      "8         9.854884\n",
      "9         9.191125\n",
      "10        3.312117\n",
      "11        4.766065\n",
      "12        3.375332\n",
      "13        3.154079\n",
      "14        4.291952\n",
      "15        4.481597\n",
      "16        9.854884\n",
      "17        3.406940\n",
      "18        3.564978\n",
      "19        3.154079\n",
      "20        3.406940\n",
      "21        3.406940\n",
      "22        4.260344\n",
      "23        3.659801\n",
      "24        3.185687\n",
      "25        6.125191\n",
      "26        3.375332\n",
      "27        3.154079\n",
      "28        3.375332\n",
      "29        3.659801\n",
      "..             ...\n",
      "163       3.375332\n",
      "164       3.217295\n",
      "165       9.033087\n",
      "166      12.004199\n",
      "167       3.659801\n",
      "168       3.154079\n",
      "169       3.185687\n",
      "170       5.872330\n",
      "171       3.280510\n",
      "172       3.754623\n",
      "173       3.312117\n",
      "174       3.375332\n",
      "175       3.786231\n",
      "176       3.375332\n",
      "177       4.165522\n",
      "178       3.438548\n",
      "179       3.154079\n",
      "180       4.576420\n",
      "181       3.312117\n",
      "182       9.317556\n",
      "183       3.185687\n",
      "184       5.809115\n",
      "185      10.107745\n",
      "186       3.406940\n",
      "187       3.501763\n",
      "188       3.248902\n",
      "189       3.185687\n",
      "190       3.154079\n",
      "191       3.280510\n",
      "192       3.280510\n",
      "\n",
      "[193 rows x 1 columns]\n"
     ]
    }
   ],
   "source": [
    "# Simple linear regression model helps us to understand the relatonship between two variables \n",
    "# x - predictior \n",
    "# y - that we want to predict \n",
    "\n",
    "from sklearn.linear_model import LinearRegression\n",
    "\n",
    "# create a linear regression object \n",
    "lm = LinearRegression()\n",
    "lm\n",
    "\n",
    "X = df[['wine_servings']]\n",
    "Y = df[['total_litres_of_pure_alcohol']]\n",
    "\n",
    "# fit a linear model using wine servings \n",
    "lm.fit(X,Y)\n",
    "\n",
    "# output a prediction \n",
    "Yhat=lm.predict(X)\n",
    "Yhat[0:5] \n",
    "\n",
    "# value of intercept A \n",
    "lm.intercept_\n",
    "# 3.15407943\n",
    "\n",
    "#value of slope B \n",
    "lm.coef_\n",
    "# 0.03160757\n",
    "\n",
    "Yhat= 3.15407943 + 0.03160757 *  X\n",
    "Yhat\n",
    "\n",
    "# Find the R^2\n",
    "lm.score(X, Y)\n",
    "\n",
    "\n",
    "# Final Outut \n",
    "print('The R-square is: ', lm.score(X, Y))\n",
    "print('The intercept is: ', lm.intercept_)\n",
    "print('The slope of value B is: ', lm.coef_)\n",
    "print('The Yhat is: ', Yhat)"
   ]
  },
  {
   "cell_type": "markdown",
   "metadata": {},
   "source": [
    "### Question 7\n",
    "Use the list of features to predict the <code>'total_litres_of_pure_alcohol'</code>, split the data into training and testing and determine the $R^2$ on the test data, using the provided code:"
   ]
  },
  {
   "cell_type": "code",
   "execution_count": 10,
   "metadata": {},
   "outputs": [
    {
     "name": "stdout",
     "output_type": "stream",
     "text": [
      "number of test samples : 78\n",
      "\n",
      "number of training samples: 115\n",
      "\n",
      "the linear regression object : LinearRegression(copy_X=True, fit_intercept=True, n_jobs=None,\n",
      "         normalize=False)\n",
      "\n",
      "The R^2 on test data is : 0.7370737388267039\n",
      "\n",
      "The R^2 on train data is: 0.9471204262013297\n"
     ]
    }
   ],
   "source": [
    "from sklearn.linear_model import LinearRegression\n",
    "from sklearn.model_selection import train_test_split\n",
    "\n",
    "\n",
    "# assign the total_litres_of_pure_alcohol to Y \n",
    "# assign the other columns to X \n",
    "\n",
    "X = df[['beer_servings', 'spirit_servings', 'wine_servings']]\n",
    "Y = df[['total_litres_of_pure_alcohol']]\n",
    "\n",
    "\n",
    "x_train1, x_test1, y_train1, y_test1 = train_test_split(X, Y, test_size=0.4, random_state=0) \n",
    "print(\"number of test samples :\", x_test1.shape[0])\n",
    "print()\n",
    "print(\"number of training samples:\",x_train1.shape[0])\n",
    "print()\n",
    "\n",
    "# creating a regression object \n",
    "lre=LinearRegression()\n",
    "print(\"the linear regression object :\", lre)\n",
    "print()\n",
    "\n",
    "# fit the model using the train dataset \n",
    "lre.fit(x_train1,y_train1)\n",
    "print(\"The R^2 on test data is :\", lre.score(x_test1,y_test1))\n",
    "print()\n",
    "print(\"The R^2 on train data is:\", lre.score(x_train1,y_train1))\n",
    "\n",
    "# The R ^ 2 on training data is higher than test data. Probably fitted noise in the training data set and hence low accuracy on test. "
   ]
  },
  {
   "cell_type": "markdown",
   "metadata": {},
   "source": [
    "<b>Question 8 :</b> Create a pipeline object that scales the data, performs a polynomial transform and fits a linear regression model. Fit the object using the training data in the question above, then calculate the R^2 using. the test data. Take a screenshot of your code and the $R^{2}$. There are some hints in the notebook:"
   ]
  },
  {
   "cell_type": "markdown",
   "metadata": {},
   "source": [
    "<code>'scale'</code>\n",
    "\n",
    "<code>'polynomial'</code>\n",
    "\n",
    "<code>'model'</code>\n",
    "\n",
    "The second element in the tuple contains the model constructor\n",
    "\n",
    "<code>StandardScaler()</code>\n",
    "\n",
    "<code>PolynomialFeatures(include_bias=False)</code>\n",
    "\n",
    "<code>LinearRegression()</code>"
   ]
  },
  {
   "cell_type": "code",
   "execution_count": 11,
   "metadata": {},
   "outputs": [
    {
     "name": "stdout",
     "output_type": "stream",
     "text": [
      "R^2 using Test data is 0.7594556586231647\n",
      "\n",
      "R^2 using Training data is 0.9555197146227157\n"
     ]
    },
    {
     "name": "stderr",
     "output_type": "stream",
     "text": [
      "/opt/conda/envs/Python36/lib/python3.6/site-packages/sklearn/preprocessing/data.py:645: DataConversionWarning: Data with input dtype int64 were all converted to float64 by StandardScaler.\n",
      "  return self.partial_fit(X, y)\n",
      "/opt/conda/envs/Python36/lib/python3.6/site-packages/sklearn/base.py:467: DataConversionWarning: Data with input dtype int64 were all converted to float64 by StandardScaler.\n",
      "  return self.fit(X, y, **fit_params).transform(X)\n",
      "/opt/conda/envs/Python36/lib/python3.6/site-packages/sklearn/pipeline.py:331: DataConversionWarning: Data with input dtype int64 were all converted to float64 by StandardScaler.\n",
      "  Xt = transform.transform(Xt)\n",
      "/opt/conda/envs/Python36/lib/python3.6/site-packages/sklearn/pipeline.py:511: DataConversionWarning: Data with input dtype int64 were all converted to float64 by StandardScaler.\n",
      "  Xt = transform.transform(Xt)\n",
      "/opt/conda/envs/Python36/lib/python3.6/site-packages/sklearn/pipeline.py:511: DataConversionWarning: Data with input dtype int64 were all converted to float64 by StandardScaler.\n",
      "  Xt = transform.transform(Xt)\n"
     ]
    }
   ],
   "source": [
    "from sklearn.pipeline import Pipeline\n",
    "from sklearn.preprocessing import StandardScaler,PolynomialFeatures\n",
    "from sklearn.linear_model import LinearRegression\n",
    "from sklearn.model_selection import train_test_split\n",
    "\n",
    "# assign the total_litres_of_pure_alcohol to Y \n",
    "# assign the other columns to X \n",
    "\n",
    "X = df[['beer_servings', 'spirit_servings', 'wine_servings']]\n",
    "Y = df[['total_litres_of_pure_alcohol']]\n",
    "\n",
    "x_train1, x_test1, y_train1, y_test1 = train_test_split(X, Y, test_size=0.4, random_state=0) \n",
    "\n",
    "input =[('scale',StandardScaler()),('polynomial',PolynomialFeatures(include_bias=False,degree=2)),('model',LinearRegression())]\n",
    "\n",
    "\n",
    "pipe = Pipeline(input)\n",
    "pipe.fit(x_train1, y_train1)\n",
    "yhat = pipe.predict(X)\n",
    "print(\"R^2 using Test data is\", pipe.score(x_test1, y_test1))\n",
    "print()\n",
    "print(\"R^2 using Training data is\", pipe.score(x_train1, y_train1))"
   ]
  },
  {
   "cell_type": "markdown",
   "metadata": {},
   "source": [
    "<b>Question 9</b>: Create and fit a Ridge regression object using the training data, setting the regularization parameter to 0.1 and calculate the $R^{2}$ using the test data. Take a screenshot of your code and the $R^{2}$"
   ]
  },
  {
   "cell_type": "code",
   "execution_count": 12,
   "metadata": {},
   "outputs": [
    {
     "name": "stdout",
     "output_type": "stream",
     "text": [
      "predicted:\n",
      " [[0.34870451]\n",
      " [4.98745467]\n",
      " [8.43516648]\n",
      " [0.4546216 ]]\n",
      "\n",
      "test set :\n",
      " [[0. ]\n",
      " [4.6]\n",
      " [8.2]\n",
      " [0.1]]\n",
      "\n",
      "RidgeModel for Test set R^2: 0.7370737565866847\n",
      "RidgeModel for Train set R^2: 0.9471204262013262\n"
     ]
    }
   ],
   "source": [
    "from sklearn.linear_model import Ridge\n",
    "from sklearn.linear_model import LinearRegression\n",
    "from sklearn.model_selection import train_test_split\n",
    "\n",
    "# Ridge Regression we will see how the parameter Alfa changes the model. \n",
    "# Just a note here our test data will be used as validation data.\n",
    "\n",
    "pr=PolynomialFeatures(degree=2)\n",
    "\n",
    "X = df[['beer_servings', 'spirit_servings', 'wine_servings']]\n",
    "Y = df[['total_litres_of_pure_alcohol']]\n",
    "\n",
    "x_train1, x_test1, y_train1, y_test1 = train_test_split(X, Y, test_size=0.4, random_state=0) \n",
    "\n",
    "# Let's create a Ridge regression object, setting the regularization parameter to 0.1\n",
    "RigeModel=Ridge(alpha=0.1)\n",
    "\n",
    "#Like regular regression, you can fit the model using the method fit.\n",
    "RigeModel.fit(x_train1, y_train1)\n",
    "\n",
    "#Obtain a prediction\n",
    "yhat = RigeModel.predict(x_test1)\n",
    "\n",
    "# lets compare the first few samples to test dataset \n",
    "print('predicted:\\n', yhat[0:4])\n",
    "print()\n",
    "print('test set :\\n', y_test1[0:4].values)\n",
    "\n",
    "# printing the r square\n",
    "print()\n",
    "print(\"RidgeModel for Test set R^2:\",RigeModel.score(x_test1, y_test1))\n",
    "print(\"RidgeModel for Train set R^2:\",RigeModel.score(x_train1, y_train1))"
   ]
  },
  {
   "cell_type": "markdown",
   "metadata": {},
   "source": [
    "<b>Question 10 </b>: Perform a 2nd order polynomial transform on both the training data and testing data.  Create and fit a Ridge regression object using the training data, setting the regularization parameter to 0.1. Calculate the $R^{2}$ utilizing the test data provided. Take a screen-shot of your code and the $R^{2}$. "
   ]
  },
  {
   "cell_type": "code",
   "execution_count": 35,
   "metadata": {},
   "outputs": [
    {
     "name": "stdout",
     "output_type": "stream",
     "text": [
      "PolynomialFeatures(degree=2, include_bias=True, interaction_only=False)\n",
      "\n",
      "Predicted values: [[0.28701361]\n",
      " [4.61300808]\n",
      " [8.49934388]\n",
      " [0.40634027]]\n",
      "\n",
      "True values: [[0. ]\n",
      " [4.6]\n",
      " [8.2]\n",
      " [0.1]]\n",
      "\n",
      "R^2 of the training data:  0.9555197146227157\n",
      "\n",
      "R^2 of the test data: 0.7594556586231671\n"
     ]
    }
   ],
   "source": [
    "from sklearn.linear_model import Ridge\n",
    "from sklearn.linear_model import LinearRegression\n",
    "from sklearn.model_selection import train_test_split\n",
    "from sklearn.preprocessing import PolynomialFeatures\n",
    "\n",
    "pr = PolynomialFeatures(degree=2)\n",
    "\n",
    "X = df[['beer_servings', 'spirit_servings', 'wine_servings']]\n",
    "Y = df[['total_litres_of_pure_alcohol']]\n",
    "\n",
    "x_train1, x_test1, y_train1, y_test1 = train_test_split(X, Y, test_size=0.4, random_state=0) \n",
    "\n",
    "x_train_pr = pr.fit_transform(x_train1)\n",
    "x_test_pr = pr.fit_transform(x_test1)\n",
    "\n",
    "print(pr)\n",
    "\n",
    "poly = LinearRegression()\n",
    "poly.fit(x_train_pr, y_train1)\n",
    "\n",
    "yhat = poly.predict(x_test_pr)\n",
    "yhat[0:5]\n",
    "\n",
    "print()\n",
    "print(\"Predicted values:\", yhat[0:4])\n",
    "print()\n",
    "print(\"True values:\", y_test1[0:4].values)\n",
    "\n",
    "print()\n",
    "print(\"R^2 of the training data: \", poly.score(x_train_pr, y_train1))\n",
    "print()\n",
    "print(\"R^2 of the test data:\", poly.score(x_test_pr, y_test1))\n"
   ]
  },
  {
   "cell_type": "markdown",
   "metadata": {},
   "source": [
    "<a href=\"https://dataplatform.cloud.ibm.com/docs/content/wsj/analyze-data/share-notebooks.html\\\" > CLICK HERE </a>  to see how to share your notebook"
   ]
  },
  {
   "cell_type": "markdown",
   "metadata": {},
   "source": [
    "<b>Sources</b>"
   ]
  },
  {
   "cell_type": "markdown",
   "metadata": {},
   "source": [
    "<a href=https://fivethirtyeight.com/features/dear-mona-followup-where-do-people-drink-the-most-beer-wine-and-spirits/> Dear Mona Followup: Where Do People Drink The Most Beer, Wine And Spirits?</a> by By Mona Chalabi , you can download the dataset <a href=https://github.com/fivethirtyeight/data/tree/master/alcohol-consumption>here</a>."
   ]
  }
 ],
 "metadata": {
  "kernelspec": {
   "display_name": "Python 3.6",
   "language": "python",
   "name": "python3"
  },
  "language_info": {
   "codemirror_mode": {
    "name": "ipython",
    "version": 3
   },
   "file_extension": ".py",
   "mimetype": "text/x-python",
   "name": "python",
   "nbconvert_exporter": "python",
   "pygments_lexer": "ipython3",
   "version": "3.6.9"
  }
 },
 "nbformat": 4,
 "nbformat_minor": 2
}
